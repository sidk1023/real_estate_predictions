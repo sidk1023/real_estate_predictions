{
 "cells": [
  {
   "cell_type": "code",
   "execution_count": 121,
   "id": "3c048eca",
   "metadata": {},
   "outputs": [],
   "source": [
    "\n",
    "def model_maker(df):\n",
    "    import pandas as pd\n",
    "    import numpy as np\n",
    "    from sklearn.preprocessing import OneHotEncoder, StandardScaler\n",
    "    from sklearn.pipeline import Pipeline\n",
    "    from sklearn.compose import ColumnTransformer\n",
    "    from sklearn.ensemble import RandomForestRegressor\n",
    "    from sklearn.cluster import KMeans\n",
    "    import joblib\n",
    "    #Remove outliers\n",
    "    df['area']= df['area'].apply(lambda x: int(x.replace(',','')))\n",
    "    df_shortened = df[(df['latitude']>17.1) & (df['latitude']<17.7) & (df['longitude']>78.1) & (df['longitude']<78.8) & (df['bedrooms']<=6) ]\n",
    "    df = df_shortened\n",
    "    #clustering\n",
    "    coords= list(zip(df['latitude'],df['longitude']))\n",
    "    kmeans = KMeans(n_clusters = 150, random_state=0) #arbitrary number, we shall optimise later\n",
    "    coords = kmeans.fit_predict(coords)\n",
    "    df['cluster_center']=coords\n",
    "    df = df[['latitude','longitude','bedrooms','area','seller','property_type','cluster_center','rent']]\n",
    "    #training\n",
    "    X = df.drop('rent',axis=1)\n",
    "    y=df['rent']\n",
    "    num_pipeline = Pipeline([('std_scaler',StandardScaler())])\n",
    "    cat_pipeline = Pipeline([('one_hot',OneHotEncoder())])\n",
    "    num_attribs = ['latitude','longitude','bedrooms','area']\n",
    "    cat_attribs=['seller','property_type','cluster_center']\n",
    "    full_pipeline = ColumnTransformer([('num',num_pipeline,num_attribs),('cat',cat_pipeline,cat_attribs),])\n",
    "    X_prepared = full_pipeline.fit_transform(X)\n",
    "    rfr = RandomForestRegressor(n_estimators = 200)\n",
    "    rfr.fit(X_prepared,y)\n",
    "    joblib.dump(kmeans,'clusterer.sav')\n",
    "    joblib.dump(rfr,'predictor.sav')\n",
    "    joblib.dump(full_pipeline,'pipeline.sav')\n",
    "\n",
    "    "
   ]
  },
  {
   "cell_type": "code",
   "execution_count": 43,
   "id": "5b28d375",
   "metadata": {},
   "outputs": [],
   "source": [
    "import pandas as pd\n",
    "import numpy as np"
   ]
  },
  {
   "cell_type": "code",
   "execution_count": 117,
   "id": "371a9ada",
   "metadata": {},
   "outputs": [],
   "source": [
    "df = pd.read_csv('hyd_rents')"
   ]
  },
  {
   "cell_type": "code",
   "execution_count": 118,
   "id": "d00323cd",
   "metadata": {},
   "outputs": [
    {
     "name": "stderr",
     "output_type": "stream",
     "text": [
      "<ipython-input-115-03f85f191625>:17: SettingWithCopyWarning: \n",
      "A value is trying to be set on a copy of a slice from a DataFrame.\n",
      "Try using .loc[row_indexer,col_indexer] = value instead\n",
      "\n",
      "See the caveats in the documentation: https://pandas.pydata.org/pandas-docs/stable/user_guide/indexing.html#returning-a-view-versus-a-copy\n",
      "  df['cluster_center']=coords\n"
     ]
    }
   ],
   "source": [
    "means,forest,pipeline = model_maker(df)"
   ]
  },
  {
   "cell_type": "code",
   "execution_count": 120,
   "id": "04909ae3",
   "metadata": {},
   "outputs": [
    {
     "data": {
      "text/plain": [
       "['pipeline.sav']"
      ]
     },
     "execution_count": 120,
     "metadata": {},
     "output_type": "execute_result"
    }
   ],
   "source": [
    "import joblib\n",
    "joblib.dump(means,'clusterer.sav')\n",
    "joblib.dump(forest,'predictor.sav')\n",
    "joblib.dump(pipeline,'pipeline.sav')\n"
   ]
  },
  {
   "cell_type": "code",
   "execution_count": 95,
   "id": "975d10bb",
   "metadata": {},
   "outputs": [],
   "source": [
    "df = pd.DataFrame(data = [17.2,78.3,3,2100,'OWNER','Villa']).transpose()\n"
   ]
  },
  {
   "cell_type": "code",
   "execution_count": 96,
   "id": "68939d0b",
   "metadata": {},
   "outputs": [],
   "source": [
    "df.columns=['latitude','longitude','bedrooms','area','seller','property_type']"
   ]
  },
  {
   "cell_type": "code",
   "execution_count": 97,
   "id": "4622561a",
   "metadata": {},
   "outputs": [],
   "source": [
    "coords= list(zip(df['latitude'],df['longitude']))\n"
   ]
  },
  {
   "cell_type": "code",
   "execution_count": 98,
   "id": "6b3bb137",
   "metadata": {},
   "outputs": [],
   "source": [
    "cluster = joblib.load('clusterer.sav')\n",
    "pipeline = joblib.load('pipeline.sav')\n",
    "predictor = joblib.load('predictor.sav')"
   ]
  },
  {
   "cell_type": "code",
   "execution_count": 99,
   "id": "0c66e993",
   "metadata": {},
   "outputs": [],
   "source": [
    "df['cluster_center'] = cluster.predict(coords)"
   ]
  },
  {
   "cell_type": "code",
   "execution_count": 100,
   "id": "5623773a",
   "metadata": {},
   "outputs": [
    {
     "data": {
      "text/html": [
       "<div>\n",
       "<style scoped>\n",
       "    .dataframe tbody tr th:only-of-type {\n",
       "        vertical-align: middle;\n",
       "    }\n",
       "\n",
       "    .dataframe tbody tr th {\n",
       "        vertical-align: top;\n",
       "    }\n",
       "\n",
       "    .dataframe thead th {\n",
       "        text-align: right;\n",
       "    }\n",
       "</style>\n",
       "<table border=\"1\" class=\"dataframe\">\n",
       "  <thead>\n",
       "    <tr style=\"text-align: right;\">\n",
       "      <th></th>\n",
       "      <th>latitude</th>\n",
       "      <th>longitude</th>\n",
       "      <th>bedrooms</th>\n",
       "      <th>area</th>\n",
       "      <th>seller</th>\n",
       "      <th>property_type</th>\n",
       "      <th>cluster_center</th>\n",
       "    </tr>\n",
       "  </thead>\n",
       "  <tbody>\n",
       "    <tr>\n",
       "      <th>0</th>\n",
       "      <td>17.2</td>\n",
       "      <td>78.3</td>\n",
       "      <td>3</td>\n",
       "      <td>2100</td>\n",
       "      <td>OWNER</td>\n",
       "      <td>Villa</td>\n",
       "      <td>63</td>\n",
       "    </tr>\n",
       "  </tbody>\n",
       "</table>\n",
       "</div>"
      ],
      "text/plain": [
       "  latitude longitude bedrooms  area seller property_type  cluster_center\n",
       "0     17.2      78.3        3  2100  OWNER         Villa              63"
      ]
     },
     "execution_count": 100,
     "metadata": {},
     "output_type": "execute_result"
    }
   ],
   "source": [
    "df"
   ]
  },
  {
   "cell_type": "code",
   "execution_count": 105,
   "id": "5106ac8c",
   "metadata": {},
   "outputs": [],
   "source": [
    "df = pipeline.transform(df)"
   ]
  },
  {
   "cell_type": "code",
   "execution_count": 106,
   "id": "5fbabfd5",
   "metadata": {},
   "outputs": [
    {
     "data": {
      "text/plain": [
       "array([32073.57142857])"
      ]
     },
     "execution_count": 106,
     "metadata": {},
     "output_type": "execute_result"
    }
   ],
   "source": [
    "predictor.predict(df)"
   ]
  },
  {
   "cell_type": "code",
   "execution_count": 104,
   "id": "a05c77c4",
   "metadata": {},
   "outputs": [
    {
     "data": {
      "text/html": [
       "<div>\n",
       "<style scoped>\n",
       "    .dataframe tbody tr th:only-of-type {\n",
       "        vertical-align: middle;\n",
       "    }\n",
       "\n",
       "    .dataframe tbody tr th {\n",
       "        vertical-align: top;\n",
       "    }\n",
       "\n",
       "    .dataframe thead th {\n",
       "        text-align: right;\n",
       "    }\n",
       "</style>\n",
       "<table border=\"1\" class=\"dataframe\">\n",
       "  <thead>\n",
       "    <tr style=\"text-align: right;\">\n",
       "      <th></th>\n",
       "      <th>latitude</th>\n",
       "      <th>longitude</th>\n",
       "      <th>bedrooms</th>\n",
       "      <th>area</th>\n",
       "      <th>seller</th>\n",
       "      <th>property_type</th>\n",
       "      <th>cluster_center</th>\n",
       "    </tr>\n",
       "  </thead>\n",
       "  <tbody>\n",
       "    <tr>\n",
       "      <th>0</th>\n",
       "      <td>17.2</td>\n",
       "      <td>78.3</td>\n",
       "      <td>3</td>\n",
       "      <td>2100</td>\n",
       "      <td>OWNER</td>\n",
       "      <td>Villa</td>\n",
       "      <td>63</td>\n",
       "    </tr>\n",
       "  </tbody>\n",
       "</table>\n",
       "</div>"
      ],
      "text/plain": [
       "  latitude longitude bedrooms  area seller property_type  cluster_center\n",
       "0     17.2      78.3        3  2100  OWNER         Villa              63"
      ]
     },
     "execution_count": 104,
     "metadata": {},
     "output_type": "execute_result"
    }
   ],
   "source": [
    "df"
   ]
  },
  {
   "cell_type": "code",
   "execution_count": 107,
   "id": "f3f04ff8",
   "metadata": {},
   "outputs": [
    {
     "data": {
      "text/plain": [
       "45"
      ]
     },
     "execution_count": 107,
     "metadata": {},
     "output_type": "execute_result"
    }
   ],
   "source": [
    "45345%100"
   ]
  },
  {
   "cell_type": "code",
   "execution_count": 111,
   "id": "70f83ccf",
   "metadata": {},
   "outputs": [
    {
     "data": {
      "text/plain": [
       "45000"
      ]
     },
     "execution_count": 111,
     "metadata": {},
     "output_type": "execute_result"
    }
   ],
   "source": [
    "1000*(45345%100)"
   ]
  },
  {
   "cell_type": "code",
   "execution_count": 112,
   "id": "28543bb5",
   "metadata": {},
   "outputs": [
    {
     "data": {
      "text/plain": [
       "45000"
      ]
     },
     "execution_count": 112,
     "metadata": {},
     "output_type": "execute_result"
    }
   ],
   "source": [
    "1000*(5345%100)"
   ]
  },
  {
   "cell_type": "code",
   "execution_count": 114,
   "id": "222c72f6",
   "metadata": {},
   "outputs": [
    {
     "data": {
      "text/plain": [
       "45000"
      ]
     },
     "execution_count": 114,
     "metadata": {},
     "output_type": "execute_result"
    }
   ],
   "source": [
    "45345 - 45345%1000"
   ]
  },
  {
   "cell_type": "code",
   "execution_count": null,
   "id": "c52269ce",
   "metadata": {},
   "outputs": [],
   "source": []
  }
 ],
 "metadata": {
  "kernelspec": {
   "display_name": "Python 3",
   "language": "python",
   "name": "python3"
  },
  "language_info": {
   "codemirror_mode": {
    "name": "ipython",
    "version": 3
   },
   "file_extension": ".py",
   "mimetype": "text/x-python",
   "name": "python",
   "nbconvert_exporter": "python",
   "pygments_lexer": "ipython3",
   "version": "3.9.5"
  }
 },
 "nbformat": 4,
 "nbformat_minor": 5
}
